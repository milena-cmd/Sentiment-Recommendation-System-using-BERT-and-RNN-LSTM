{
 "cells": [
  {
   "cell_type": "markdown",
   "metadata": {},
   "source": [
    "# Model Training Notebook\n",
    "This notebook demonstrates how to train both the BERT and RNN-LSTM models."
   ]
  },
  {
   "cell_type": "code",
   "execution_count": null,
   "metadata": {},
   "outputs": [],
   "source": [
    "# Train BERT model\n",
    "!python ../src/train.py --model bert\n",
    "\n",
    "# Train RNN-LSTM model\n",
    "!python ../src/train.py --model rnn\n"
   ]
  }
 ],
 "metadata": {},
 "nbformat": 4,
 "nbformat_minor": 2
}
