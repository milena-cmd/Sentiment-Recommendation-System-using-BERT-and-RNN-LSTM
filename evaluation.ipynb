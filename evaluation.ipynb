{
 "cells": [
  {
   "cell_type": "markdown",
   "metadata": {},
   "source": [
    "# Model Evaluation Notebook\n",
    "This notebook demonstrates how to evaluate the trained models and visualize the results."
   ]
  },
  {
   "cell_type": "code",
   "execution_count": null,
   "metadata": {},
   "outputs": [],
   "source": [
    "# Evaluate BERT model\n",
    "!python ../src/evaluate.py --model bert\n",
    "\n",
    "# Evaluate RNN-LSTM model\n",
    "!python ../src/evaluate.py --model rnn\n",
    "\n",
    "# Generate visualizations\n",
    "!python ../src/visualize.py\n"
   ]
  }
 ],
 "metadata": {},
 "nbformat": 4,
 "nbformat_minor": 2
}
