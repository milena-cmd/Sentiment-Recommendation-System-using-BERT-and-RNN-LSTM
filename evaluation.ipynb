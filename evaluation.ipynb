{
 "cells": [
  {
   "cell_type": "markdown",
   "metadata": {},
   "source": [
    "# Model Evaluation Notebook\n",
    "\n",
    "This notebook evaluates the trained deep learning models (BERT and RNN-LSTM) and compares them with several baseline recommendation algorithms. \n",
    "\n",
    "The evaluation metrics include Precision, Recall, F1-Score, RMSE, MAE, and NDCG (Normalized Discounted Cumulative Gain).\n",
    "\n",
    "Baseline algorithms are implemented in the `src/baselines.py` module."
   ]
  },
  {
   "cell_type": "code",
   "execution_count": null,
   "metadata": {},
   "source": [
    "# Evaluate the BERT model\n",
    "!python ../src/evaluate.py --model bert"
   ]
  },
  {
   "cell_type": "code",
   "execution_count": null,
   "metadata": {},
   "source": [
    "# Evaluate the RNN-LSTM model\n",
    "!python ../src/evaluate.py --model rnn"
   ]
  },
  {
   "cell_type": "markdown",
   "metadata": {},
   "source": [
    "## Baseline Algorithms Evaluation\n",
    "\n",
    "Below, we demonstrate the baseline recommendation algorithms on a sample ratings matrix. \n",
    "\n",
    "The following baselines are included:\n",
    "- User-based Collaborative Filtering (U-CF)\n",
    "- Item-based Collaborative Filtering (I-CF)\n",
    "- SVD-based Recommender (SVD)\n",
    "- Social Regularization (Soc-Reg)"
   ]
  },
  {
   "cell_type": "code",
   "execution_count": null,
   "metadata": {},
   "source": [
    "import pandas as pd\n",
    "import numpy as np\n",
    "\n",
    "# Import baseline functions from the src folder\n",
    "from src.baselines import user_based_cf, item_based_cf, svd_recommender, social_regularization\n",
    "\n",
    "# Create a sample ratings DataFrame (users x courses)\n",
    "data = {\n",
    "    'course1': [5, 4, np.nan, 2, 1],\n",
    "    'course2': [4, np.nan, 3, 2, 1],\n",
    "    'course3': [np.nan, 3, 4, 2, 5],\n",
    "    'course4': [2, 5, 3, np.nan, 4]\n",
    "}\n",
    "ratings = pd.DataFrame(data, index=['user1', 'user2', 'user3', 'user4', 'user5'])\n",
    "\n",
    "target_user = 'user3'\n",
    "\n",
    "print('User-based CF Recommendations for', target_user)\n",
    "print(user_based_cf(ratings, target_user))\n",
    "\n",
    "print('\\nItem-based CF Recommendations for', target_user)\n",
    "print(item_based_cf(ratings, target_user))\n",
    "\n",
    "print('\\nSVD Recommendations for', target_user)\n",
    "print(svd_recommender(ratings, target_user))\n",
    "\n",
    "# For social regularization, create a dummy trust matrix\n",
    "trust_matrix = pd.DataFrame(np.random.rand(5, 5), index=ratings.index, columns=ratings.index)\n",
    "np.fill_diagonal(trust_matrix.values, 1)\n",
    "\n",
    "print('\\nSocial Regularization Recommendations for', target_user)\n",
    "print(social_regularization(ratings, trust_matrix, target_user))\n"
   ]
  }
 ],
 "metadata": {
  "kernelspec": {
   "display_name": "Python 3",
   "language": "python",
   "name": "python3"
  },
  "language_info": {
   "name": "python",
   "version": "3.x"
  }
 },
 "nbformat": 4,
 "nbformat_minor": 2
}
