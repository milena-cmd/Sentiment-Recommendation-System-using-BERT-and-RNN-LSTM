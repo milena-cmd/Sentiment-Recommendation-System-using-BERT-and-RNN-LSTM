
---

## 4. Notebooks

### 4.1. `notebooks/data_preprocessing.ipynb`

```json
{
 "cells": [
  {
   "cell_type": "markdown",
   "metadata": {},
   "source": [
    "# Data Preprocessing Notebook\n",
    "This notebook demonstrates data cleaning and preprocessing steps for all datasets, including the Amazon Books Reviews dataset."
   ]
  },
  {
   "cell_type": "code",
   "execution_count": null,
   "metadata": {},
   "outputs": [],
   "source": [
    "import pandas as pd\n",
    "\n",
    "# Example: load Amazon Books Reviews dataset\n",
    "amazon_books_df = pd.read_csv('../data/raw/amazon_books.csv')\n",
    "print(amazon_books_df.head())\n",
    "\n",
    "# You can call the preprocessing functions from src/preprocess.py if needed\n",
    "!python ../src/preprocess.py"
   ]
  }
 ],
 "metadata": {},
 "nbformat": 4,
 "nbformat_minor": 2
}
