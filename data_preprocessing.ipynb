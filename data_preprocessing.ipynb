{
 "cells": [
  {
   "cell_type": "markdown",
   "metadata": {},
   "source": [
    "# Data Preprocessing Notebook\n",
    "\n",
    "This notebook demonstrates data cleaning and preprocessing steps for all datasets, including the Amazon Books Reviews dataset."
   ]
  },
  {
   "cell_type": "code",
   "execution_count": null,
   "metadata": {},
   "outputs": [],
   "source": [
    "import pandas as pd\n",
    "\n",
    "# Load the Amazon Books Reviews dataset from the raw folder\n",
    "amazon_books_df = pd.read_csv('../data/raw/amazon_books.csv')\n",
    "print('First few rows of the Amazon Books Reviews dataset:')\n",
    "print(amazon_books_df.head())\n",
    "\n",
    "# Optionally, run the preprocessing script\n",
    "!python ../src/preprocess.py"
   ]
  }
 ],
 "metadata": {
  "kernelspec": {
   "display_name": "Python 3",
   "language": "python",
   "name": "python3"
  },
  "language_info": {
   "name": "python",
   "version": "3.x"
  }
 },
 "nbformat": 4,
 "nbformat_minor": 2
}
