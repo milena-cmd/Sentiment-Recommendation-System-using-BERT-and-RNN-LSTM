{
 "cells": [
  {
   "cell_type": "markdown",
   "metadata": {},
   "source": [
    "# Data Preprocessing Notebook\n",
    "\n",
    "This notebook processes the raw datasets and applies necessary transformations,\n",
    "such as cleaning, normalization, and feature engineering, before saving the\n",
    "processed data.\n"
   ]
  },
  {
   "cell_type": "code",
   "execution_count": null,
   "metadata": {},
   "outputs": [],
   "source": [
    "import pandas as pd\n",
    "import numpy as np\n",
    "import os\n",
    "from sklearn.model_selection import train_test_split\n"
   ]
  },
  {
   "cell_type": "markdown",
   "metadata": {},
   "source": [
    "## Load Raw Data"
   ]
  },
  {
   "cell_type": "code",
   "execution_count": null,
   "metadata": {},
   "outputs": [],
   "source": [
    "# Define file paths\n",
    "raw_data_path = '../raw/'\n",
    "processed_data_path = '../processed/'\n",
    "\n",
    "# Ensure the processed data folder exists\n",
    "os.makedirs(processed_data_path, exist_ok=True)\n",
    "\n",
    "# Load datasets\n",
    "datasets = {}\n",
    "for file in os.listdir(raw_data_path):\n",
    "    if file.endswith('.csv'):\n",
    "        datasets[file] = pd.read_csv(os.path.join(raw_data_path, file))\n",
    "        print(f'Loaded {file} with {datasets[file].shape[0]} rows and {datasets[file].shape[1]} columns')"
   ]
  },
  {
   "cell_type": "markdown",
   "metadata": {},
   "source": [
    "## Data Cleaning and Preprocessing"
   ]
  },
  {
   "cell_type": "code",
   "execution_count": null,
   "metadata": {},
   "outputs": [],
   "source": [
    "def preprocess_data(df):\n",
    "    # Drop duplicates\n",
    "    df = df.drop_duplicates()\n",
    "    \n",
    "    # Handle missing values\n",
    "    df = df.fillna(method='ffill').fillna(method='bfill')\n",
    "    \n",
    "    # Convert text columns to lowercase\n",
    "    for col in df.select_dtypes(include=['object']).columns:\n",
    "        df[col] = df[col].str.lower().str.strip()\n",
    "    \n",
    "    return df\n",
    "\n",
    "# Apply preprocessing\n",
    "for name, df in datasets.items():\n",
    "    datasets[name] = preprocess_data(df)\n",
    "    print(f'Preprocessed {name}')"
   ]
  },
  {
   "cell_type": "markdown",
   "metadata": {},
   "source": [
    "## Train-Test Split"
   ]
  },
  {
   "cell_type": "code",
   "execution_count": null,
   "metadata": {},
   "outputs": [],
   "source": [
    "# Split datasets into training and testing sets\n",
    "train_test_split_ratio = 0.8\n",
    "for name, df in datasets.items():\n",
    "    train, test = train_test_split(df, test_size=1-train_test_split_ratio, random_state=42)\n",
    "    train.to_csv(os.path.join(processed_data_path, f'train_{name}'), index=False)\n",
    "    test.to_csv(os.path.join(processed_data_path, f'test_{name}'), index=False)\n",
    "    print(f'Saved train and test datasets for {name}')"
   ]
  }
 ],
 "metadata": {
  "kernelspec": {
   "display_name": "Python 3",
   "language": "python",
   "name": "python3"
  },
  "language_info": {
   "name": "python",
   "version": "3.x"
  }
 },
 "nbformat": 4,
 "nbformat_minor": 2
}
